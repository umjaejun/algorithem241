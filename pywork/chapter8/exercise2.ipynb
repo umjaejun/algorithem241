{
 "cells": [
  {
   "cell_type": "markdown",
   "metadata": {},
   "source": [
    "## 연습문제 2번"
   ]
  },
  {
   "cell_type": "markdown",
   "metadata": {},
   "source": [
    "2. 미국은 그림과 같이 Quarter, Dime, Nickel, penny란 동전을 사용하고 있다. 이 동전들을 이용해 거스름돈 68센트를 돌려주려고 한다.  \n",
    "탐욕적 기법의 알고리즘 8.1이 수행되는 과정을 설명하라. 또한 이 방법이 거스름돈 동전 수를 최소화 할 수 있는지를 설명하라."
   ]
  },
  {
   "cell_type": "code",
   "execution_count": null,
   "metadata": {},
   "outputs": [],
   "source": [
    "## 알고리즘 8.1\n",
    "def min_coins_greedy(coins, V):\n",
    "    count = []\n",
    "    for i in range(len(coins)):\n",
    "        cnt = V // coins[i]\n",
    "        count.append(cnt)\n",
    "        V -= cnt * coins[i]\n",
    "    return count"
   ]
  },
  {
   "cell_type": "code",
   "execution_count": null,
   "metadata": {},
   "outputs": [],
   "source": [
    "## 테스트 코드\n",
    "def min_coins_greedy(coins, V):\n",
    "    count = []\n",
    "    for i in range(len(coins)):\n",
    "        cnt = V // coins[i]\n",
    "        count.append(cnt)\n",
    "        V -= cnt * coins[i]\n",
    "    return count\n",
    "\n",
    "coins = [25, 10 ,5 , 1] # coins = 동전 종류\n",
    "V = 68 # V = 거스름돈으로 주어질 금액\n",
    "print(\"잔돈 액수 = \", V)\n",
    "print(\"동전 종류 = \", coins)\n",
    "print(\"동전 개수 = \", min_coins_greedy(coins, V))"
   ]
  },
  {
   "cell_type": "markdown",
   "metadata": {},
   "source": [
    "#### 1. 거스름돈 68센트가 탐욕적 기법의 알고리즘 8.1을 이용하여 수행되는 과정을 설명.\n",
    "\n",
    "1. 초기 상태\n",
    "- V = 68\n",
    "- count = []\n",
    "2. 25cent(Quater)\n",
    "- cnt = 68 // 25 = 2\n",
    "- count = [2]\n",
    "- V = 68 - 2 * 25 = 18\n",
    "3. 10cent(Dime)\n",
    "- cnt = 18 // 10 = 1\n",
    "- count = [2, 1]\n",
    "- V = 18 - 1 * 10 = 8\n",
    "4. 5cent(Nickel)\n",
    "- cnt = 8 // 5 = 1\n",
    "- count = [2, 1, 1]\n",
    "- V = 8 - 1 * 5 = 3\n",
    "5. 1cent(penny)\n",
    "- cnt = 3 // 1 = 3\n",
    "- count = [2, 1, 1, 3]\n",
    "- V = 3 - 3 * 1 = 0\n",
    "\n",
    "따라서 25센트 동전 2개, 10센트 동전 1개, 5센트 동전 1개, 1센트 동전 3개가 필요함"
   ]
  },
  {
   "cell_type": "markdown",
   "metadata": {},
   "source": [
    "#### 2. 이 방법이 거스름돈 동전 수를 최소화 할 수 있는지를 설명하라.\n",
    "\n",
    "해당 예시에서는 동전의 단위가 25, 10, 5, 1로 배수 관계에 있어서 그리디 알고리즘이 잘 작동하지만, 일반적인 경우에도 다음과 같은 상황에서 문제가 발생할 수 있다.\n",
    "\n",
    "- 동전의 단위가 [1, 6, 10]과 같이 서로 배수 관계가 없는 경우 이 알고리즘으로 최소 동전 개수를 구할 수 없다.\n",
    "- 예를 들어, 만약 V = 14일 때 동전이 [10, 7, 1]이라면, 해당 알고리즘은 10 + 1 + 1 + 1 + 1 = 4개의 동전을 반환하지만, 최적은 7 + 7 = 2개의 동전을 반환하는 것이다.\n",
    "\n",
    "##### 결론\n",
    "- 이 코드는 단순하고 직관적이지만 항상 최소 동전 개수를 보장하지는 않는다. 동전의 종류와 사용하는 상황에 따라 최적의 해결책이 될 수도 있고 그렇지 않을 수도 있다."
   ]
  }
 ],
 "metadata": {
  "kernelspec": {
   "display_name": "Python 3",
   "language": "python",
   "name": "python3"
  },
  "language_info": {
   "name": "python",
   "version": "3.12.1"
  }
 },
 "nbformat": 4,
 "nbformat_minor": 2
}
