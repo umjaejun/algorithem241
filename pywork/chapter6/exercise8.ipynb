{
 "cells": [
  {
   "cell_type": "markdown",
   "metadata": {},
   "source": [
    "## 연습문제 8번"
   ]
  },
  {
   "cell_type": "markdown",
   "metadata": {},
   "source": [
    "8. 알파벳으로 {알, 고, 리, 즘}을 가질 수 있는 다름 리스트를 카운팅 정렬을 이용해 사전순서로 정렬해 보라.\n",
    "\n",
    "        {고, 고, 즘, 알, 리, 알, 즘, 즘, 고, 리} "
   ]
  },
  {
   "cell_type": "markdown",
   "metadata": {},
   "source": [
    "1. 정렬을 하기 위해 {알, 고, 리, 즘}을 사전 순서로 나타내면 {고, 리, 알, 즘}이 된다.\n",
    "\n",
    "2. 사전 순서로 나타낸 것을 바탕으로 다음 문제의 리스트에서 각각 문자의 빈도를 나타내면 [3, 2, 2, 3]으로 카운팅이 된다.\n",
    "\n",
    "3. 이를 바탕으로한 정렬 결과는 [고, 고, 고, 리, 리, 알, 알, 즘, 즘, 즘]"
   ]
  }
 ],
 "metadata": {
  "language_info": {
   "name": "python"
  }
 },
 "nbformat": 4,
 "nbformat_minor": 2
}
