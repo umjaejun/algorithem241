{
 "cells": [
  {
   "cell_type": "markdown",
   "metadata": {},
   "source": [
    "# 예제 5.4"
   ]
  },
  {
   "cell_type": "markdown",
   "metadata": {},
   "source": [
    "## 1.문제 정의\n",
    "- 이진트리의 높이"
   ]
  },
  {
   "cell_type": "markdown",
   "metadata": {},
   "source": [
    "## 2.알고리즘 설명\n",
    "- 이진 트리의 높이를 계산하는 알고리즘을 구현한 것이며, 알고리즘은 재귀적으로 동작한다.\n",
    "  \n",
    "1. 재귀적으로 함수를 호출한다.\n",
    "2. 만약 root가 None이면 높이는 0\n",
    "3. 그렇지 않으면 왼쪽 서브트리의 높이(hLeft)와 오른쪽 서브트리의 높이(hRight)를 재귀적으로 계산\n",
    "4. 왼쪽 서브트리와 오른쪽 서브트리 중 더 큰 높이를 선택하고, 여기에 1을 더해서 현재 노드의 높이를 계산"
   ]
  },
  {
   "cell_type": "markdown",
   "metadata": {},
   "source": [
    "## 3.손으로 푼 예제"
   ]
  },
  {
   "cell_type": "markdown",
   "metadata": {},
   "source": [
    "## 4. 알고리즘 개요  \n",
    "\n",
    "1. 입력 변수\n",
    "   - root: 이진 트리의 루트 노드\n",
    "\n",
    "2. 출력\n",
    "   - 이진 트리의 높이"
   ]
  },
  {
   "cell_type": "markdown",
   "metadata": {},
   "source": [
    "## 5.코드"
   ]
  },
  {
   "cell_type": "code",
   "execution_count": null,
   "metadata": {},
   "outputs": [],
   "source": [
    "def calc_height(root):\n",
    "    if root is None:\n",
    "        return 0\n",
    "    hLeft = calc_height(root.left)\n",
    "    hRight = calc_height(root.right)\n",
    "    return max(hLeft, hRight) + 1"
   ]
  },
  {
   "cell_type": "markdown",
   "metadata": {},
   "source": [
    "## 6.테스트 코드"
   ]
  },
  {
   "cell_type": "code",
   "execution_count": null,
   "metadata": {},
   "outputs": [],
   "source": [
    "# 이진 트리의 루트 노드 정의\n",
    "class TreeNode:\n",
    "    def __init__(self, val=0, left=None, right=None):\n",
    "        self.val = val\n",
    "        self.left = left\n",
    "        self.right = right\n",
    "\n",
    "def calc_height(root):\n",
    "    if root is None:\n",
    "        return 0\n",
    "    hLeft = calc_height(root.left)\n",
    "    hRight = calc_height(root.right)\n",
    "    return max(hLeft, hRight) + 1\n",
    "\n",
    "# 트리 생성 및 높이 계산\n",
    "root = TreeNode(1)\n",
    "root.left = TreeNode(2)\n",
    "root.right = TreeNode(3)\n",
    "root.left.left = TreeNode(4)\n",
    "root.left.right = TreeNode(5)\n",
    "\n",
    "print(\"트리의 높이 =\", calc_height(root))\n"
   ]
  },
  {
   "cell_type": "markdown",
   "metadata": {},
   "source": [
    "## 7.출력 결과"
   ]
  },
  {
   "cell_type": "markdown",
   "metadata": {},
   "source": [
    "## 8.복잡도 분석\n",
    "\n",
    "#### 1. base case\n",
    "- 만약 현재 노드가 None(즉, 트리의 끝)이라면, 높이는 0이므로 이 경우 시간 복잡도는 O(1)이 된다.\n",
    "\n",
    "#### 2. recursive case\n",
    "- 현재 노드의 왼쪽 서브트리의 높이(hLeft)와 오른쪽 서브트리의 높이(hRight)를 각각 계산\n",
    "- 이 두 높이 중 더 큰 값을 선택하고, 여기에 1을 더해서 현재 노드의 높이를 계산\n",
    "- 이 과정은 재귀적으로 수행되며, 각 노드를 한 번씩 방문\n",
    "\n",
    "따라서 이 알고리즘의 시간 복잡도는 O(n), 여기서 n은 트리의 노드 수 이며, 이는 각 노드를 한 번씩 방문하기 때문이다."
   ]
  },
  {
   "cell_type": "markdown",
   "metadata": {},
   "source": [
    "## 9. 담당 문제\n",
    "\n",
    "1. 성서 5.3, 5.8\n",
    "2. 이동재 5.1, 5.5 ~ 5.7\n",
    "3. 윤동현 5.2, 5,9\n",
    "4. 엄재준 5.4"
   ]
  }
 ],
 "metadata": {
  "kernelspec": {
   "display_name": "Python 3",
   "language": "python",
   "name": "python3"
  },
  "language_info": {
   "name": "python",
   "version": "3.12.2"
  }
 },
 "nbformat": 4,
 "nbformat_minor": 2
}
