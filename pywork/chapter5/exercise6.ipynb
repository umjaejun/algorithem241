{
 "cells": [
  {
   "cell_type": "markdown",
   "metadata": {},
   "source": [
    "## 연습문제 6번"
   ]
  },
  {
   "cell_type": "markdown",
   "metadata": {},
   "source": [
    "6. 다음 리스트 병합 정렬을 이용해 오름차순으로 정렬하라. 각 단계에서의 배열의 내용을 나타내어라.  \n",
    "           \n",
    "                    7   4   9   6   3   8   7   5            "
   ]
  },
  {
   "cell_type": "markdown",
   "metadata": {},
   "source": [
    "#### 첫 번째 단계  \n",
    "- 리스트의 값 2개씩 병합\n",
    "[7, 4], [9, 6], [3, 8], [7, 5]  \n",
    "- 오름차순 정렬이므로 [7, 4], [9, 6], [7, 5] 각각 숫자의 위치가 바뀐다.\n",
    "  \n",
    "                4   7   6   9   3   8   5   7               "
   ]
  },
  {
   "cell_type": "markdown",
   "metadata": {},
   "source": [
    "### 두 번째 단계\n",
    "- 리스트의 값 4개씩 병합 [4, 7, 6, 9], [3, 8, 5, 7]  \n",
    "- 오름차순 정렬이므로 [4, 6, 7, 9], [3, 5, 7, 8]로 값의 위치가 바뀐다.\n",
    "  \n",
    "                4   6   7   9   3   5   7   8               "
   ]
  },
  {
   "cell_type": "markdown",
   "metadata": {},
   "source": [
    "### 세 번째 단계\n",
    "- 리스트의 리스트 값 모두 병합 [4, 6, 7, 9, 3, 5, 7, 8]\n",
    "\n",
    "                3   4   5   6   7   7   8   9               "
   ]
  }
 ],
 "metadata": {
  "language_info": {
   "name": "python"
  }
 },
 "nbformat": 4,
 "nbformat_minor": 2
}
