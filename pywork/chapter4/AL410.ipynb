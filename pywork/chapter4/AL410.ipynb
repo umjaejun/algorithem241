{
 "cells": [
  {
   "cell_type": "markdown",
   "metadata": {},
   "source": [
    "## 예제 4.10"
   ]
  },
  {
   "cell_type": "markdown",
   "metadata": {},
   "source": [
    "## 1. 문제 정의\n",
    "\n",
    "정렬을 이용한 k번째 작은 수 찾기"
   ]
  },
  {
   "cell_type": "markdown",
   "metadata": {},
   "source": [
    "## 2. 알고리즘 설명\n",
    "- 리스트를 정렬한 후에 해당 리스트에서 k번째로 작은 요소를 반환하는 알고리즘\n",
    "\n",
    "함수 kth_smallest_sort는 두 개의 매개변수 리스트 A, 정수 k 를 받는다.\n",
    "\n",
    "A를 오름 차순으로 정렬, 가장 작은 값부터 순서대로 정렬된다.\n",
    "\n",
    "정렬된 리스트 A에서 k번째로 작은 요소를 찾기 위해 A[k-1] 반환한다.\n",
    "\n",
    "k-1은 리스트의 인덱스이므로, 리스트 인덱스는 0부터 시작하므로 k번째로 작은 요소를 찾기 위해 인덱스를 k-1로 지정한다."
   ]
  },
  {
   "cell_type": "markdown",
   "metadata": {},
   "source": [
    "## 3. 손으로 푼 예제\n",
    "\n",
    "깃허브에 올리면 이미지 계속 오류나서 일단 이미지 제거하고 올렸습니다."
   ]
  },
  {
   "cell_type": "markdown",
   "metadata": {},
   "source": [
    "## 4. 알고리즘 개요\n",
    "- 입력 변수(input)\n",
    "\n",
    "  A : 정수로 이루어진 리스트\n",
    "\n",
    "  k : 찾고자 하는 순서의 위치를 나타내는 정수\n",
    "\n",
    "- 출력(Output)\n",
    "\n",
    "  A 리스트에서 k번째로 작은 값을 반환\n",
    "  "
   ]
  },
  {
   "cell_type": "markdown",
   "metadata": {},
   "source": [
    "## 5. 알고리즘 코드"
   ]
  },
  {
   "cell_type": "code",
   "execution_count": null,
   "metadata": {
    "vscode": {
     "languageId": "plaintext"
    }
   },
   "outputs": [],
   "source": [
    "def kth_smallest_sort(A, k) :\n",
    "    A.sort()\n",
    "    return A[k-1]"
   ]
  },
  {
   "cell_type": "markdown",
   "metadata": {},
   "source": [
    "## 6. 테스트 코드"
   ]
  },
  {
   "cell_type": "code",
   "execution_count": null,
   "metadata": {
    "vscode": {
     "languageId": "plaintext"
    }
   },
   "outputs": [],
   "source": [
    "def kth_smallest_sort(A, k) :\n",
    "    A.sort()\n",
    "    return A[k-1]\n",
    "\n",
    "list = [4, 2, 7, 1, 9, 5]\n",
    "k_value = 5\n",
    "\n",
    "print(kth_smallest_sort(list, k_value))"
   ]
  },
  {
   "cell_type": "markdown",
   "metadata": {
    "vscode": {
     "languageId": "plaintext"
    }
   },
   "source": [
    "## 7. 수행 결과\n",
    "깃허브에 올리면 이미지 계속 오류나서 일단 이미지 제거하고 올렸습니다."
   ]
  },
  {
   "cell_type": "markdown",
   "metadata": {},
   "source": [
    "## 8. 복잡도 분석\n",
    "\n",
    "리스트 A 정렬하는 시간 복잡도는 O(n log n)\n",
    "\n",
    "정렬된 리스트에서  k번째로 작은 값을 찾기 위해서는 한 번의 인덱스 참조 작업이 필요하다. 시간 복잡도는 O(1)\n",
    "\n",
    "따라서 시간 복잡도는 O(n log n) + O(1) = O(n log n)이 된다."
   ]
  },
  {
   "cell_type": "code",
   "execution_count": null,
   "metadata": {
    "vscode": {
     "languageId": "plaintext"
    }
   },
   "outputs": [],
   "source": []
  },
  {
   "cell_type": "markdown",
   "metadata": {},
   "source": [
    "## 9. 작성자 & 조별 협력 내용\n",
    "- 윤동현 4.6, 4.5, 4.3\n",
    "- 박성서 4.4, 4.8, 4.1\n",
    "- 이동재 4.11, 4.7, 4.2\n",
    "- 엄재준 4.2, 4.10"
   ]
  },
  {
   "cell_type": "markdown",
   "metadata": {},
   "source": []
  }
 ],
 "metadata": {
  "language_info": {
   "name": "python"
  }
 },
 "nbformat": 4,
 "nbformat_minor": 2
}
